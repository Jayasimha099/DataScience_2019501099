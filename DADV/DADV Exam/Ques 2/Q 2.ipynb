{
 "cells": [
  {
   "cell_type": "markdown",
   "id": "184031e6",
   "metadata": {},
   "source": [
    "# 2.\tIf we define daily gain or loss of a stock is the % of change of the stock closing price to previous day closing price. Compute daily gain or loss for each S&P500 company. Do the same thing for weekly and monthly gains or losses. "
   ]
  },
  {
   "cell_type": "code",
   "execution_count": 1,
   "id": "65f48031",
   "metadata": {},
   "outputs": [],
   "source": [
    "import pandas as pd\n",
    "import numpy as np\n",
    "import matplotlib.pyplot as plt\n",
    "from itertools import combinations"
   ]
  },
  {
   "cell_type": "code",
   "execution_count": 2,
   "id": "57091a55",
   "metadata": {},
   "outputs": [
    {
     "name": "stderr",
     "output_type": "stream",
     "text": [
      "\n",
      "\n",
      "====== WebDriver manager ======\n",
      "Current google-chrome version is 91.0.4472\n",
      "Get LATEST driver version for 91.0.4472\n",
      "Driver [C:\\Users\\Jayasimha\\.wdm\\drivers\\chromedriver\\win32\\91.0.4472.19\\chromedriver.exe] found in cache\n"
     ]
    },
    {
     "name": "stdout",
     "output_type": "stream",
     "text": [
      "505\n"
     ]
    }
   ],
   "source": [
    "import requests\n",
    "import urllib\n",
    "from bs4 import BeautifulSoup\n",
    "import re\n",
    "import io\n",
    "import gzip\n",
    "import time\n",
    "import csv\n",
    "import os\n",
    "from selenium import webdriver\n",
    "from selenium.webdriver.common.keys import Keys\n",
    "from webdriver_manager.chrome import ChromeDriverManager\n",
    "from multiprocessing import Pool\n",
    "import import_ipynb\n",
    "import pandas as pd\n",
    "from ipynb.fs.full.scraping_daily_data import scraping_daily_data\n",
    "\n",
    "driver = webdriver.Chrome(ChromeDriverManager().install())\n",
    "url = \"https://en.wikipedia.org/wiki/List_of_S%26P_500_companies\"\n",
    "driver.get(url)\n",
    "\n",
    "symbols = list()\n",
    "symbols_GICC = dict()\n",
    "\n",
    "table = \"/html/body/div[3]/div[3]/div[5]/div[1]/table[1]\"\n",
    "table = driver.find_element_by_xpath(table)\n",
    "elements = table.find_elements_by_tag_name(\"tr\")[1:]\n",
    "\n",
    "for row in elements:\n",
    "    data = [data.text for data in row.find_elements_by_tag_name(\"td\")]\n",
    "    #here i am storung all the data related to a date in a dictioanry.\n",
    "    symbols.append(data[0])\n",
    "    symbols_GICC[data[0]] = data[3]\n",
    "\n",
    "print(len(symbols_GICC))"
   ]
  },
  {
   "cell_type": "code",
   "execution_count": 3,
   "id": "89316b69",
   "metadata": {},
   "outputs": [],
   "source": [
    "gain_loss_daily = pd.DataFrame(columns=[\"symbol\",\"gain_loss\",\"GICS\"])\n",
    "gain_loss_weekly = pd.DataFrame(columns=[\"symbol\",\"gain_loss\",\"GICS\"])\n",
    "gain_loss_monthly = pd.DataFrame(columns=[\"symbol\",\"gain_loss\",\"GICS\"])"
   ]
  },
  {
   "cell_type": "code",
   "execution_count": 4,
   "id": "9cc6db39",
   "metadata": {},
   "outputs": [],
   "source": [
    "\n",
    "daily_dfs = {}\n",
    "weekly_dfs = {}\n",
    "monthly_dfs = {}\n",
    "\n",
    "\n",
    "def gain_loss(sym):\n",
    "    #DAILY\n",
    "    #reading the csv file every file ends with daily for daily stock.\n",
    "    df_daily = pd.read_csv(sym +\"_daily\" + \".csv\")\n",
    "    #here as told in question, applying formula. previous day-present closing price/present clsoing price.\n",
    "    #here shit(1) means it takes the previous available value in dataframe.\n",
    "    df_daily[\"Gain/Loss\"] = (df_daily[\"Close\"] - df_daily[\"Close\"].shift(1)) / df_daily[\"Close\"]\n",
    "    \n",
    "    #here daily gain/loss is gievn for every ticker symbol.\n",
    "    daily_dfs[sym] = df_daily\n",
    "    \n",
    "    #WEEKLY\n",
    "    df_weekly = pd.read_csv(sym +\"_weekly\"+\".csv\")\n",
    "    df_weekly[\"Gain/Loss\"] = (df_weekly[\"Close\"] - df_weekly[\"Close\"].shift(1)) / df_weekly[\"Close\"]\n",
    "    weekly_dfs[sym] = df_weekly\n",
    "    \n",
    "    #MONTHLY\n",
    "    df_monthly = pd.read_csv(sym + \"_monthly\" + \".csv\")\n",
    "    df_monthly[\"Gain/Loss\"] = (df_monthly[\"Close\"] - df_monthly[\"Close\"].shift(1)) / df_weekly[\"Close\"]\n",
    "    monthly_dfs[sym] = df_monthly\n",
    "    \n",
    "    #Here creating a dictionary to store all the gain/loss for all symbols by calling the gain_loss method.\n",
    "    daily = {\"symbol\":sym,\"gain_loss\":df_daily[\"Gain/Loss\"].sum(),\"GICS\":symbols_GICC[sym]}\n",
    "    weekly = {\"symbol\":sym,\"gain_loss\":df_weekly[\"Gain/Loss\"].sum(),\"GICS\":symbols_GICC[sym]}\n",
    "    monthly = {\"symbol\":sym,\"gain_loss\":df_monthly[\"Gain/Loss\"].sum(),\"GICS\":symbols_GICC[sym]}\n",
    "    \n",
    "    return (daily,weekly,monthly)\n",
    "\n"
   ]
  },
  {
   "cell_type": "code",
   "execution_count": 5,
   "id": "22cc5602",
   "metadata": {},
   "outputs": [],
   "source": [
    "for n in symbols:\n",
    "    try:\n",
    "        (daily,weekly,monthly) = gain_loss(n)\n",
    "        #now inserting all the method call values in dataframes created earlier.\n",
    "        gain_loss_daily = gain_loss_daily.append(daily, ignore_index=True)\n",
    "        #here for each df, creating an index and 3 columsn.\n",
    "        gain_loss_weekly = gain_loss_weekly.append(weekly, ignore_index=True)\n",
    "        gain_loss_monthly = gain_loss_monthly.append(monthly, ignore_index=True)\n",
    "    except Exception as e:\n",
    "        pass"
   ]
  },
  {
   "cell_type": "code",
   "execution_count": 6,
   "id": "0725dcba",
   "metadata": {},
   "outputs": [
    {
     "name": "stdout",
     "output_type": "stream",
     "text": [
      "    symbol  gain_loss                    GICS\n",
      "0      MMM   0.022650             Industrials\n",
      "1      ABT   0.775921             Health Care\n",
      "2     ABBV   0.402984             Health Care\n",
      "3     ABMD   0.868232             Health Care\n",
      "4      ACN   0.782966  Information Technology\n",
      "..     ...        ...                     ...\n",
      "240    MKC   0.673513        Consumer Staples\n",
      "241    MDT   0.285405             Health Care\n",
      "242   MCHP   0.731854  Information Technology\n",
      "243    TAP  -0.941475        Consumer Staples\n",
      "244     MS   0.475200              Financials\n",
      "\n",
      "[245 rows x 3 columns]\n",
      "    symbol  gain_loss                    GICS\n",
      "0      MMM   0.076890             Industrials\n",
      "1      ABT   0.847760             Health Care\n",
      "2     ABBV   0.435138             Health Care\n",
      "3     ABMD   0.891735             Health Care\n",
      "4      ACN   0.828857  Information Technology\n",
      "..     ...        ...                     ...\n",
      "240    MKC   0.708544        Consumer Staples\n",
      "241    MDT   0.316487             Health Care\n",
      "242   MCHP   0.802615  Information Technology\n",
      "243    TAP  -0.957985        Consumer Staples\n",
      "244     MS   0.561547              Financials\n",
      "\n",
      "[245 rows x 3 columns]\n",
      "    symbol  gain_loss                    GICS\n",
      "0      MMM   0.180066             Industrials\n",
      "1      ABT   2.063769             Health Care\n",
      "2     ABBV   0.796004             Health Care\n",
      "3     ABMD   2.500622             Health Care\n",
      "4      ACN   1.193002  Information Technology\n",
      "..     ...        ...                     ...\n",
      "240    MKC   0.962392        Consumer Staples\n",
      "241    MDT   0.430314             Health Care\n",
      "242   MCHP   1.637921  Information Technology\n",
      "243    TAP  -0.376565        Consumer Staples\n",
      "244     MS   1.253259              Financials\n",
      "\n",
      "[245 rows x 3 columns]\n"
     ]
    }
   ],
   "source": [
    "print(gain_loss_daily)\n",
    "print(gain_loss_weekly)\n",
    "print(gain_loss_monthly)"
   ]
  },
  {
   "cell_type": "code",
   "execution_count": null,
   "id": "9505acce",
   "metadata": {},
   "outputs": [],
   "source": []
  }
 ],
 "metadata": {
  "kernelspec": {
   "display_name": "Python 3",
   "language": "python",
   "name": "python3"
  },
  "language_info": {
   "codemirror_mode": {
    "name": "ipython",
    "version": 3
   },
   "file_extension": ".py",
   "mimetype": "text/x-python",
   "name": "python",
   "nbconvert_exporter": "python",
   "pygments_lexer": "ipython3",
   "version": "3.7.10"
  }
 },
 "nbformat": 4,
 "nbformat_minor": 5
}
